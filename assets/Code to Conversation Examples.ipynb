{
 "cells": [
  {
   "cell_type": "markdown",
   "metadata": {},
   "source": [
    "# Setup\n",
    "\n",
    "Set the common directory in our system path so we can load our scripts"
   ]
  },
  {
   "cell_type": "code",
   "execution_count": 1,
   "metadata": {
    "collapsed": true
   },
   "outputs": [],
   "source": [
    "import sys, importlib, os\n",
    "sys.path.append('./common')"
   ]
  },
  {
   "cell_type": "code",
   "execution_count": 2,
   "metadata": {},
   "outputs": [],
   "source": [
    "# Setup our WCS Workspace Target\n",
    "try:\n",
    "    from _credentials import *\n",
    "except:\n",
    "    CONVERSATION_USERNAME = ''\n",
    "    CONVERSATION_PASSWORD = ''\n",
    "    VERSION = ''\n",
    "    WORKSPACE_ID = ''\n",
    "    TARGET_WORKSPACE = ''"
   ]
  },
  {
   "cell_type": "markdown",
   "metadata": {},
   "source": [
    "# Load Scripts"
   ]
  },
  {
   "cell_type": "code",
   "execution_count": 3,
   "metadata": {},
   "outputs": [],
   "source": [
    "# Load our common functions\n",
    "from load_intent_data import copy_intent_data, load_csv_as_intent_data\n",
    "from load_entity_data import copy_entity_data, load_csv_as_entity_data\n",
    "from load_dialog_data import copy_dialog_data"
   ]
  },
  {
   "cell_type": "markdown",
   "metadata": {},
   "source": [
    "## Load Intents\n",
    "\n",
    "First load CSV test data.\n",
    "Then copy from a source workspace"
   ]
  },
  {
   "cell_type": "code",
   "execution_count": 4,
   "metadata": {},
   "outputs": [
    {
     "name": "stdout",
     "output_type": "stream",
     "text": [
      "Example 'TEST' does not exist for intent 'TEST_EXAMPLES'. Nothing to remove\n",
      "Example 'TEST_UPDATE' does not exist for intent 'TEST_MERGE'. Nothing to remove\n",
      "Intent 'TEST' does not exist. Nothing to remove\n",
      "Intent 'TEST' created with 1 examples\n",
      "Intent 'TEST_EXAMPLES' created with 1 examples\n",
      "Intent 'TEST_MERGE' created with 2 examples\n",
      "load_intent_data action 'test' complete.\n"
     ]
    }
   ],
   "source": [
    "load_csv_as_intent_data(conversation_username=CONVERSATION_USERNAME,\n",
    "                 conversation_password=CONVERSATION_PASSWORD,\n",
    "                 version=VERSION,\n",
    "                 workspace_id=TARGET_WORKSPACE,\n",
    "                 action='test',\n",
    "                 root_dir='.')"
   ]
  },
  {
   "cell_type": "code",
   "execution_count": 5,
   "metadata": {},
   "outputs": [
    {
     "name": "stdout",
     "output_type": "stream",
     "text": [
      "Intent 'order_pizza' created with 5 examples\n",
      "copy_intent_data for 'order_pizza' complete.\n"
     ]
    }
   ],
   "source": [
    "copy_intent_data(intent='order_pizza',\n",
    "                 target_username=CONVERSATION_USERNAME, \n",
    "                 target_password=CONVERSATION_PASSWORD, \n",
    "                 target_workspace=TARGET_WORKSPACE,\n",
    "                 source_username=CONVERSATION_USERNAME, \n",
    "                 source_password=CONVERSATION_PASSWORD, \n",
    "                 source_workspace=WORKSPACE_ID,\n",
    "                 version=VERSION,\n",
    "                 clear_existing=False)"
   ]
  },
  {
   "cell_type": "markdown",
   "metadata": {},
   "source": [
    "## Load Entities\n",
    "\n",
    "First load CSV test data.\n",
    "Then copy from a source workspace"
   ]
  },
  {
   "cell_type": "code",
   "execution_count": 6,
   "metadata": {},
   "outputs": [
    {
     "name": "stdout",
     "output_type": "stream",
     "text": [
      "Entity 'DOESNTEXIST' does not exist. Nothing to remove\n",
      "Entity 'TEST_EMPTY' does not exist. Nothing to remove\n",
      "Value 'TEST' does not exist for entity 'TEST_VALUE_EMPTY'. Nothing to remove\n",
      "Synyonym 'TEST_TWO' for value 'TEST' does not exist for entity 'TEST'. Nothing to remove\n",
      "Value 'TEST_VALUE' does not exist for entity 'TEST'. Nothing to remove\n",
      "Entity 'TEST_EMPTY' update complete for all values and synyonyms\n",
      "Entity 'TEST_VALUE_EMPTY' update complete for all values and synyonyms\n",
      "Entity 'TEST' update complete for all values and synyonyms\n",
      "load_entity_data action 'test' complete.\n"
     ]
    }
   ],
   "source": [
    "load_csv_as_entity_data(conversation_username=CONVERSATION_USERNAME,\n",
    "                        conversation_password=CONVERSATION_PASSWORD,\n",
    "                        version=VERSION,\n",
    "                        workspace_id=TARGET_WORKSPACE,\n",
    "                        action='test',\n",
    "                        root_dir='.')"
   ]
  },
  {
   "cell_type": "code",
   "execution_count": 7,
   "metadata": {},
   "outputs": [
    {
     "name": "stdout",
     "output_type": "stream",
     "text": [
      "Entity 'pizza_type' update complete for all values and synyonyms\n",
      "copy_entity_data for 'pizza_type' complete.\n",
      "Entity 'pizza_topping' update complete for all values and synyonyms\n",
      "copy_entity_data for 'pizza_topping' complete.\n",
      "Entity 'special_type' update complete for all values and synyonyms\n",
      "copy_entity_data for 'special_type' complete.\n"
     ]
    }
   ],
   "source": [
    "copy_entity_data(entity='pizza_type',\n",
    "                 target_username=CONVERSATION_USERNAME, \n",
    "                 target_password=CONVERSATION_PASSWORD, \n",
    "                 target_workspace=TARGET_WORKSPACE,\n",
    "                 source_username=CONVERSATION_USERNAME, \n",
    "                 source_password=CONVERSATION_PASSWORD, \n",
    "                 source_workspace=WORKSPACE_ID,\n",
    "                 version=VERSION,\n",
    "                 clear_existing=False)\n",
    "\n",
    "copy_entity_data(entity='pizza_topping',\n",
    "                 target_username=CONVERSATION_USERNAME, \n",
    "                 target_password=CONVERSATION_PASSWORD, \n",
    "                 target_workspace=TARGET_WORKSPACE,\n",
    "                 source_username=CONVERSATION_USERNAME, \n",
    "                 source_password=CONVERSATION_PASSWORD, \n",
    "                 source_workspace=WORKSPACE_ID,\n",
    "                 version=VERSION,\n",
    "                 clear_existing=False)\n",
    "\n",
    "copy_entity_data(entity='special_type',\n",
    "                 target_username=CONVERSATION_USERNAME, \n",
    "                 target_password=CONVERSATION_PASSWORD, \n",
    "                 target_workspace=TARGET_WORKSPACE,\n",
    "                 source_username=CONVERSATION_USERNAME, \n",
    "                 source_password=CONVERSATION_PASSWORD, \n",
    "                 source_workspace=WORKSPACE_ID,\n",
    "                 version=VERSION,\n",
    "                 clear_existing=False)"
   ]
  },
  {
   "cell_type": "markdown",
   "metadata": {},
   "source": [
    "## Load Dialog\n",
    "\n",
    "Copy branch from a source workspace"
   ]
  },
  {
   "cell_type": "code",
   "execution_count": 8,
   "metadata": {},
   "outputs": [
    {
     "name": "stdout",
     "output_type": "stream",
     "text": [
      "inserting as first child of dialog root\n",
      "Dialog update success\n"
     ]
    }
   ],
   "source": [
    "copy_dialog_data(root_node='order a pizza',\n",
    "                 target_node='root',\n",
    "                 target_insert_as='sibling',\n",
    "                 target_username=CONVERSATION_USERNAME, \n",
    "                 target_password=CONVERSATION_PASSWORD, \n",
    "                 target_workspace=TARGET_WORKSPACE,\n",
    "                 source_username=CONVERSATION_USERNAME, \n",
    "                 source_password=CONVERSATION_PASSWORD, \n",
    "                 source_workspace=WORKSPACE_ID,\n",
    "                 version=VERSION)"
   ]
  },
  {
   "cell_type": "code",
   "execution_count": null,
   "metadata": {
    "collapsed": true
   },
   "outputs": [],
   "source": []
  }
 ],
 "metadata": {
  "kernelspec": {
   "display_name": "Python 3",
   "language": "python",
   "name": "python3"
  },
  "language_info": {
   "codemirror_mode": {
    "name": "ipython",
    "version": 3
   },
   "file_extension": ".py",
   "mimetype": "text/x-python",
   "name": "python",
   "nbconvert_exporter": "python",
   "pygments_lexer": "ipython3",
   "version": "3.6.4"
  }
 },
 "nbformat": 4,
 "nbformat_minor": 2
}
