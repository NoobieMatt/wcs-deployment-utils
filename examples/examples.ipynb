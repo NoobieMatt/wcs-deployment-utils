{
 "cells": [
  {
   "cell_type": "markdown",
   "metadata": {},
   "source": [
    "# Setup\n",
    "\n",
    "Set the common directory in our system path so we can load our scripts"
   ]
  },
  {
   "cell_type": "code",
   "execution_count": null,
   "metadata": {
    "collapsed": true
   },
   "outputs": [],
   "source": [
    "!pip install wcs-deployment-utils"
   ]
  },
  {
   "cell_type": "code",
   "execution_count": 3,
   "metadata": {
    "collapsed": true
   },
   "outputs": [],
   "source": [
    "# Setup our WCS Workspace Target\n",
    "try:\n",
    "    from _credentials import *\n",
    "except:\n",
    "    CONVERSATION_USERNAME = ''\n",
    "    CONVERSATION_PASSWORD = ''\n",
    "    VERSION = ''\n",
    "    WORKSPACE_ID = ''\n",
    "    TARGET_WORKSPACE = ''"
   ]
  },
  {
   "cell_type": "markdown",
   "metadata": {},
   "source": [
    "# Load Scripts"
   ]
  },
  {
   "cell_type": "code",
   "execution_count": 1,
   "metadata": {
    "collapsed": true
   },
   "outputs": [],
   "source": [
    "# Load our util functions\n",
    "from wcs_deployment_utils.intents import load_csv_as_intent_data, copy_intent_data\n",
    "from wcs_deployment_utils.entities import load_csv_as_entity_data, copy_entity_data\n",
    "from wcs_deployment_utils.dialog import copy_dialog_branch, delete_branch_from_csv, generate_wcs_diagram\n",
    "from wcs_deployment_utils.util import get_and_backup_workspace"
   ]
  },
  {
   "cell_type": "markdown",
   "metadata": {},
   "source": [
    "## Dialog\n",
    "\n",
    "1. Copy branch from a source workspace\n",
    "    1. Display the projected branch copy\n",
    "2. Remove a branch from a target workspace as specified in a CSV\n",
    "    1. Display deleted nodes\n",
    "    2. Display not found nodes\n",
    "3. Display a string representation of a WCS workspace"
   ]
  },
  {
   "cell_type": "markdown",
   "metadata": {},
   "source": [
    "### Copy a Dialog Branch"
   ]
  },
  {
   "cell_type": "code",
   "execution_count": 26,
   "metadata": {},
   "outputs": [
    {
     "name": "stdout",
     "output_type": "stream",
     "text": [
      "\n",
      "\n",
      "dialog update complete\n"
     ]
    }
   ],
   "source": [
    "_, projection = copy_dialog_branch(\n",
    "        root_node='order a pizza',\n",
    "        target_node='root',\n",
    "        target_insert_as='child',\n",
    "        source_username=CONVERSATION_USERNAME, \n",
    "        source_password=CONVERSATION_PASSWORD, \n",
    "        source_workspace=WORKSPACE_ID,\n",
    "        target_username=CONVERSATION_USERNAME, \n",
    "        target_password=CONVERSATION_PASSWORD, \n",
    "        target_workspace=TARGET_WORKSPACE,\n",
    "        version=VERSION,\n",
    "        target_backup_file='backup/ex1.json')"
   ]
  },
  {
   "cell_type": "markdown",
   "metadata": {},
   "source": [
    "The projected dialog tree is shown below, after these changes have been applied"
   ]
  },
  {
   "cell_type": "code",
   "execution_count": 28,
   "metadata": {},
   "outputs": [
    {
     "name": "stdout",
     "output_type": "stream",
     "text": [
      "root\n",
      "├── order a pizza (jumps to: kind of pizza)\n",
      "│   ├── response_condition - @special_type:vegetarian\n",
      "│   ├── kind of pizza (jumps to: get name)\n",
      "│   │   ├── event_handler - @special_type:vegetarian\n",
      "│   │   ├── event_handler\n",
      "│   │   ├── event_handler\n",
      "│   │   ├── slot - @special_type != 'vegetarian'\n",
      "│   │   │   ├── event_handler\n",
      "│   │   │   ├── event_handler - @pizza_type\n",
      "│   │   │   ├── event_handler - @pizza_type:deep-dish\n",
      "│   │   │   ├── event_handler - @pizza_type:thin-crust\n",
      "│   │   │   └── event_handler - true\n",
      "│   │   ├── slot - @special_type != 'vegetarian'\n",
      "│   │   │   ├── event_handler\n",
      "│   │   │   ├── event_handler - @pizza_topping\n",
      "│   │   │   ├── event_handler - @pizza_topping:jalapeno\n",
      "│   │   │   └── event_handler - true\n",
      "│   │   ├── event_handler\n",
      "│   │   └── true\n",
      "│   │       └── slot\n",
      "│   │           ├── event_handler\n",
      "│   │           └── event_handler\n",
      "│   └── response_condition - true\n",
      "├── welcome\n",
      "├── 1\n",
      "├── 2\n",
      "│   ├── 2_1\n",
      "│   └── 2_2\n",
      "├── 3\n",
      "│   ├── 3_1\n",
      "│   ├── 3_2\n",
      "│   └── 3_3\n",
      "├── get name\n",
      "│   └── name slot\n",
      "│       └── slot\n",
      "│           ├── event_handler - @sys-person\n",
      "│           └── event_handler\n",
      "└── Anything else\n"
     ]
    }
   ],
   "source": [
    "print(projection)"
   ]
  },
  {
   "cell_type": "markdown",
   "metadata": {},
   "source": [
    "### Delete Branches from a CSV file"
   ]
  },
  {
   "cell_type": "code",
   "execution_count": 30,
   "metadata": {},
   "outputs": [
    {
     "name": "stdout",
     "output_type": "stream",
     "text": [
      "Unable to locate node 'DOESNOTEXIST'. It may have already been removed.\n",
      "delete_branch_from_csv complete for example_data/delete_branch.csv\n"
     ]
    }
   ],
   "source": [
    "deleted, not_found = delete_branch_from_csv(\n",
    "    conversation_username=CONVERSATION_USERNAME,\n",
    "    conversation_password=CONVERSATION_PASSWORD,\n",
    "    workspace=TARGET_WORKSPACE,\n",
    "    version=VERSION,\n",
    "    csv_file='example_data/delete_branch.csv',\n",
    "    target_backup_file='backup/ex2.json')"
   ]
  },
  {
   "cell_type": "code",
   "execution_count": 32,
   "metadata": {},
   "outputs": [
    {
     "name": "stdout",
     "output_type": "stream",
     "text": [
      "deleted:  [('2', 'node_2_1518675282908'), ('2_1', 'node_4_1518675295323')]\n",
      "not found:  ['DOESNOTEXIST']\n"
     ]
    }
   ],
   "source": [
    "print('deleted: ', deleted)\n",
    "print('not found: ', not_found)"
   ]
  },
  {
   "cell_type": "markdown",
   "metadata": {},
   "source": [
    "### Display a representation of a dialog tree"
   ]
  },
  {
   "cell_type": "code",
   "execution_count": 4,
   "metadata": {},
   "outputs": [
    {
     "name": "stdout",
     "output_type": "stream",
     "text": [
      "root\n",
      "├── Welcome\n",
      "├── order a pizza (jumps to: kind of pizza)\n",
      "│   ├── response_condition - @special_type:vegetarian\n",
      "│   ├── kind of pizza (jumps to: get name)\n",
      "│   │   ├── event_handler - @special_type:vegetarian\n",
      "│   │   ├── event_handler\n",
      "│   │   ├── event_handler\n",
      "│   │   ├── slot - @special_type != 'vegetarian'\n",
      "│   │   │   ├── event_handler\n",
      "│   │   │   ├── event_handler - @pizza_type\n",
      "│   │   │   ├── event_handler - @pizza_type:deep-dish\n",
      "│   │   │   ├── event_handler - @pizza_type:thin-crust\n",
      "│   │   │   └── event_handler - true\n",
      "│   │   ├── slot - @special_type != 'vegetarian'\n",
      "│   │   │   ├── event_handler\n",
      "│   │   │   ├── event_handler - @pizza_topping\n",
      "│   │   │   ├── event_handler - @pizza_topping:jalapeno\n",
      "│   │   │   └── event_handler - true\n",
      "│   │   ├── event_handler\n",
      "│   │   └── true\n",
      "│   │       └── slot\n",
      "│   │           ├── event_handler\n",
      "│   │           └── event_handler\n",
      "│   └── response_condition - true\n",
      "├── get name\n",
      "│   └── name slot\n",
      "│       └── slot\n",
      "│           ├── event_handler - @sys-person\n",
      "│           └── event_handler\n",
      "└── Anything else\n"
     ]
    }
   ],
   "source": [
    "from wcs_deployment_utils.dialog import generate_wcs_diagram\n",
    "\n",
    "projection = generate_wcs_diagram(\n",
    "    conversation_username=CONVERSATION_USERNAME,\n",
    "    conversation_password=CONVERSATION_PASSWORD,\n",
    "    version=VERSION,\n",
    "    workspace=WORKSPACE_ID\n",
    ")\n",
    "\n",
    "print(projection)"
   ]
  },
  {
   "cell_type": "markdown",
   "metadata": {},
   "source": [
    "## Intents\n",
    "\n",
    "1. Load data from a CSV.\n",
    "2. Copy from a source workspace."
   ]
  },
  {
   "cell_type": "code",
   "execution_count": 17,
   "metadata": {},
   "outputs": [
    {
     "name": "stdout",
     "output_type": "stream",
     "text": [
      "Example 'TEST' does not exist for intent 'TEST_EXAMPLES'. Nothing to remove\n",
      "Example 'TEST_UPDATE' does not exist for intent 'TEST_MERGE'. Nothing to remove\n",
      "Intent 'TEST' does not exist. Nothing to remove\n",
      "Intent 'TEST' created with 1 examples\n",
      "Intent 'TEST_EXAMPLES' created with 1 examples\n",
      "Intent 'TEST_MERGE' created with 2 examples\n",
      "load_csv_as_intent_data for 'example_data/intents.csv' complete.\n"
     ]
    }
   ],
   "source": [
    "load_csv_as_intent_data(\n",
    "    conversation_username=CONVERSATION_USERNAME,\n",
    "    conversation_password=CONVERSATION_PASSWORD,\n",
    "    version=VERSION,\n",
    "    workspace=TARGET_WORKSPACE,\n",
    "    csv_file='example_data/intents.csv',\n",
    "    clear_existing=False,\n",
    "    target_backup_file='backup/ex3.json')"
   ]
  },
  {
   "cell_type": "code",
   "execution_count": 20,
   "metadata": {},
   "outputs": [
    {
     "name": "stdout",
     "output_type": "stream",
     "text": [
      "Intent 'order_pizza' created with 5 examples\n",
      "copy_intent_data for 'order_pizza' complete.\n"
     ]
    }
   ],
   "source": [
    "copy_intent_data(\n",
    "    intent='order_pizza',\n",
    "    source_username=CONVERSATION_USERNAME,\n",
    "    source_password=CONVERSATION_PASSWORD,\n",
    "    source_workspace=WORKSPACE_ID,\n",
    "    target_username=CONVERSATION_USERNAME,\n",
    "    target_password=CONVERSATION_PASSWORD,\n",
    "    target_workspace=TARGET_WORKSPACE,\n",
    "    version=VERSION,\n",
    "    clear_existing=False,\n",
    "    target_backup_file='backup/ex4.json')"
   ]
  },
  {
   "cell_type": "markdown",
   "metadata": {},
   "source": [
    "## Entities\n",
    "\n",
    "1. Load data from a CSV.\n",
    "2. Copy from a source workspace."
   ]
  },
  {
   "cell_type": "code",
   "execution_count": 22,
   "metadata": {},
   "outputs": [
    {
     "name": "stdout",
     "output_type": "stream",
     "text": [
      "Entity 'DOESNTEXIST' does not exist. Nothing to remove\n",
      "Entity 'TEST_EMPTY' does not exist. Nothing to remove\n",
      "Value 'TEST' does not exist for entity 'TEST_VALUE_EMPTY'. Nothing to remove\n",
      "Synyonym 'TEST_TWO' for value 'TEST' does not exist for entity 'TEST'. Nothing to remove\n",
      "Value 'TEST_VALUE' does not exist for entity 'TEST'. Nothing to remove\n",
      "Entity 'TEST_EMPTY' update complete for all values and synyonyms\n",
      "Entity 'TEST_VALUE_EMPTY' update complete for all values and synyonyms\n",
      "Entity 'TEST' update complete for all values and synyonyms\n",
      "load_csv_as_entity_data for 'example_data/entities.csv' complete.\n"
     ]
    }
   ],
   "source": [
    "load_csv_as_entity_data(\n",
    "    conversation_username=CONVERSATION_USERNAME,\n",
    "    conversation_password=CONVERSATION_PASSWORD,\n",
    "    version=VERSION,\n",
    "    workspace=TARGET_WORKSPACE,\n",
    "    csv_file='example_data/entities.csv',\n",
    "    clear_existing=False,\n",
    "    target_backup_file='backup/ex5.json')"
   ]
  },
  {
   "cell_type": "code",
   "execution_count": 23,
   "metadata": {},
   "outputs": [
    {
     "name": "stdout",
     "output_type": "stream",
     "text": [
      "Entity 'pizza_topping' update complete for all values and synyonyms\n",
      "copy_entity_data for 'pizza_topping' complete.\n"
     ]
    }
   ],
   "source": [
    "copy_entity_data(\n",
    "    entity='pizza_topping',\n",
    "    source_username=CONVERSATION_USERNAME,\n",
    "    source_password=CONVERSATION_PASSWORD,\n",
    "    source_workspace=WORKSPACE_ID,\n",
    "    target_username=CONVERSATION_USERNAME,\n",
    "    target_password=CONVERSATION_PASSWORD,\n",
    "    target_workspace=TARGET_WORKSPACE,\n",
    "    version=VERSION,\n",
    "    clear_existing=False,\n",
    "    target_backup_file='backup/ex6.json')"
   ]
  },
  {
   "cell_type": "markdown",
   "metadata": {},
   "source": [
    "## Utilities\n",
    "\n",
    "1. Get and Export a Workspace"
   ]
  },
  {
   "cell_type": "code",
   "execution_count": 34,
   "metadata": {
    "collapsed": true
   },
   "outputs": [],
   "source": [
    "export = get_and_backup_workspace(\n",
    "    username=CONVERSATION_USERNAME,\n",
    "    password=CONVERSATION_PASSWORD,\n",
    "    workspace=TARGET_WORKSPACE,\n",
    "    version=VERSION,\n",
    "    export_path='backup/ex7.json')"
   ]
  }
 ],
 "metadata": {
  "kernelspec": {
   "display_name": "Python 3",
   "language": "python",
   "name": "python3"
  },
  "language_info": {
   "codemirror_mode": {
    "name": "ipython",
    "version": 3
   },
   "file_extension": ".py",
   "mimetype": "text/x-python",
   "name": "python",
   "nbconvert_exporter": "python",
   "pygments_lexer": "ipython3",
   "version": "3.6.4"
  }
 },
 "nbformat": 4,
 "nbformat_minor": 2
}
